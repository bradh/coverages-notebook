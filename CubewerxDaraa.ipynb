{
 "cells": [
  {
   "cell_type": "markdown",
   "metadata": {},
   "source": [
    "Coverages Hacks\n",
    "==============="
   ]
  },
  {
   "cell_type": "markdown",
   "metadata": {},
   "source": [
    "In this lab, we'll be looking at Cubewerx test server, and especially how it handles OGC API Coverage.\n",
    "\n",
    "The work is in python. We'll need a couple of python tools:"
   ]
  },
  {
   "cell_type": "code",
   "execution_count": 1,
   "metadata": {},
   "outputs": [],
   "source": [
    "import json\n",
    "import requests"
   ]
  },
  {
   "cell_type": "markdown",
   "metadata": {},
   "source": [
    "Landing Page\n",
    "------------"
   ]
  },
  {
   "cell_type": "markdown",
   "metadata": {},
   "source": [
    "Fetch the landing page using a HTTP GET request and load it up as (nested) python dictionary."
   ]
  },
  {
   "cell_type": "code",
   "execution_count": 2,
   "metadata": {},
   "outputs": [],
   "source": [
    "landingPageResponse = requests.get('https://test.cubewerx.com/cubewerx/cubeserv/demo/ogcapi/Daraa')\n",
    "landingPage = json.loads(landingPageResponse.text)"
   ]
  },
  {
   "cell_type": "markdown",
   "metadata": {},
   "source": [
    "Lets look at what that looks like, turning it back in to pretty-printed JSON."
   ]
  },
  {
   "cell_type": "code",
   "execution_count": 3,
   "metadata": {},
   "outputs": [
    {
     "name": "stdout",
     "output_type": "stream",
     "text": [
      "{\n",
      "    \"title\": \"Daraa\",\n",
      "    \"description\": \"This data store is offered by CubeWerx Inc. as a demonstration of its in-progress OGC API implementation.\",\n",
      "    \"links\": [\n",
      "        {\n",
      "            \"href\": \"https://test.cubewerx.com/cubewerx/cubeserv/demo/ogcapi/Daraa?f=json\",\n",
      "            \"rel\": \"self\",\n",
      "            \"type\": \"application/json\",\n",
      "            \"title\": \"this OGC API landing page as JSON\"\n",
      "        },\n",
      "        {\n",
      "            \"href\": \"https://test.cubewerx.com/cubewerx/cubeserv/demo/ogcapi/Daraa?f=xml\",\n",
      "            \"rel\": \"alternate\",\n",
      "            \"type\": \"application/xml\",\n",
      "            \"title\": \"this OGC API landing page as XML\"\n",
      "        },\n",
      "        {\n",
      "            \"href\": \"https://test.cubewerx.com/cubewerx/cubeserv/demo/ogcapi/Daraa?f=html\",\n",
      "            \"rel\": \"alternate\",\n",
      "            \"type\": \"text/html\",\n",
      "            \"title\": \"this OGC API landing page as HTML\"\n",
      "        },\n",
      "        {\n",
      "            \"href\": \"https://test.cubewerx.com/cubewerx/cubeserv/demo/ogcapi/Daraa/api?f=json\",\n",
      "            \"rel\": \"service-desc\",\n",
      "            \"type\": \"application/vnd.oai.openapi+json; version=3.0\",\n",
      "            \"title\": \"the API definition\"\n",
      "        },\n",
      "        {\n",
      "            \"href\": \"https://test.cubewerx.com/cubewerx/cubeserv/demo/ogcapi/Daraa/api?f=html\",\n",
      "            \"rel\": \"service-doc\",\n",
      "            \"type\": \"text/html\",\n",
      "            \"title\": \"the API documentation\"\n",
      "        },\n",
      "        {\n",
      "            \"href\": \"https://test.cubewerx.com/cubewerx/cubeserv/demo/ogcapi/Daraa/conformance?f=json\",\n",
      "            \"rel\": \"conformance\",\n",
      "            \"type\": \"application/json\",\n",
      "            \"title\": \"the OGC API conformance classes supported\"\n",
      "        },\n",
      "        {\n",
      "            \"href\": \"https://test.cubewerx.com/cubewerx/cubeserv/demo/ogcapi/Daraa/collections?f=json\",\n",
      "            \"rel\": \"data\",\n",
      "            \"type\": \"application/json\",\n",
      "            \"title\": \"the set of available collections\"\n",
      "        },\n",
      "        {\n",
      "            \"href\": \"https://test.cubewerx.com/cubewerx/cubeserv/demo/ogcapi/Daraa/styles?f=json\",\n",
      "            \"rel\": \"styles\",\n",
      "            \"type\": \"application/json\",\n",
      "            \"title\": \"the set of available styles\"\n",
      "        },\n",
      "        {\n",
      "            \"href\": \"https://test.cubewerx.com/cubewerx/cubeserv/demo/ogcapi/Daraa/styles?f=sld11\",\n",
      "            \"rel\": \"styles\",\n",
      "            \"type\": \"application/vnd.ogc.sld+xml;version=1.1\",\n",
      "            \"title\": \"the set of available styles (SLD 1.1)\"\n",
      "        },\n",
      "        {\n",
      "            \"href\": \"https://test.cubewerx.com/cubewerx/cubeserv/demo/ogcapi/Daraa/styles?f=sld10\",\n",
      "            \"rel\": \"styles\",\n",
      "            \"type\": \"application/vnd.ogc.sld+xml;version=1.0\",\n",
      "            \"title\": \"the set of available styles (SLD 1.0)\"\n",
      "        },\n",
      "        {\n",
      "            \"href\": \"https://test.cubewerx.com/cubewerx/cubeserv/demo/ogcapi/Daraa/tileMatrixSets?f=json\",\n",
      "            \"rel\": \"tileMatrixSets\",\n",
      "            \"type\": \"application/json\",\n",
      "            \"title\": \"the set of available tile-matrix sets\"\n",
      "        },\n",
      "        {\n",
      "            \"href\": \"https://test.cubewerx.com/cubewerx/cubeserv/demo/ogcapi/Daraa/map\",\n",
      "            \"rel\": \"maps\",\n",
      "            \"type\": \"application/json\",\n",
      "            \"title\": \"map layers of multiple collections\"\n",
      "        }\n",
      "    ]\n",
      "}\n"
     ]
    }
   ],
   "source": [
    "print(json.dumps(landingPage, indent=4))"
   ]
  },
  {
   "cell_type": "markdown",
   "metadata": {},
   "source": [
    "Conformance\n",
    "-----------\n",
    "Lets look at the conformance statement for this server. First, lets get the appropriate link from the landing page result.\n"
   ]
  },
  {
   "cell_type": "code",
   "execution_count": 4,
   "metadata": {},
   "outputs": [
    {
     "name": "stdout",
     "output_type": "stream",
     "text": [
      "{\n",
      "    \"href\": \"https://test.cubewerx.com/cubewerx/cubeserv/demo/ogcapi/Daraa/conformance?f=json\",\n",
      "    \"rel\": \"conformance\",\n",
      "    \"type\": \"application/json\",\n",
      "    \"title\": \"the OGC API conformance classes supported\"\n",
      "}\n"
     ]
    }
   ],
   "source": [
    "\n",
    "conformanceLink = next(link for link in landingPage['links'] if (link['rel'] == 'conformance' and link['type'] == 'application/json'))\n",
    "print(json.dumps(conformanceLink, indent=4))\n"
   ]
  },
  {
   "cell_type": "markdown",
   "metadata": {},
   "source": [
    "Fetch the conformance page and load it up.\n"
   ]
  },
  {
   "cell_type": "code",
   "execution_count": 5,
   "metadata": {},
   "outputs": [
    {
     "name": "stdout",
     "output_type": "stream",
     "text": [
      "[\n",
      "    \"http://www.opengis.net/spec/ogcapi-common/1.0/conf/core\",\n",
      "    \"http://www.opengis.net/spec/ogcapi-common/1.0/conf/json\",\n",
      "    \"http://www.opengis.net/spec/ogcapi-common/1.0/conf/html\",\n",
      "    \"http://www.opengis.net/spec/ogcapi-common/1.0/conf/oas3\",\n",
      "    \"http://www.opengis.net/spec/ogcapi-common-2/1.0/conf/collections\",\n",
      "    \"http://www.opengis.net/spec/ogcapi-common-2/1.0/conf/geojson\",\n",
      "    \"http://www.opengis.net/spec/ogcapi-common-2/1.0/conf/html\",\n",
      "    \"http://www.opengis.net/spec/ogcapi-features-1/1.0/conf/core\",\n",
      "    \"http://www.opengis.net/spec/ogcapi-features-1/1.0/conf/oas30\",\n",
      "    \"http://www.opengis.net/spec/ogcapi-features-1/1.0/conf/html\",\n",
      "    \"http://www.opengis.net/spec/ogcapi-features-1/1.0/conf/geojson\",\n",
      "    \"http://www.opengis.net/spec/ogcapi_coverages-1/1.0/conf/core\",\n",
      "    \"http://www.opengis.net/spec/ogcapi-coverages-1/1.0/conf/html\",\n",
      "    \"http://www.opengis.net/spec/ogcapi-coverages-1/1.0/conf/oas30\",\n",
      "    \"http://www.opengis.net/t15/opf-styles-1/1.0/conf/core\",\n",
      "    \"http://www.opengis.net/t15/opf-styles-1/1.0/conf/sld-10\",\n",
      "    \"http://www.opengis.net/t15/opf-styles-1/1.0/conf/sld-11\",\n",
      "    \"http://www.opengis.net/t15/opf-styles-1/1.0/conf/manage-styles\",\n",
      "    \"http://www.opengis.net/t15/opf-styles-1/1.0/conf/style-validation\",\n",
      "    \"http://www.opengis.net/spec/ogcapi-maps-1/1.0/conf/core\",\n",
      "    \"http://www.opengis.net/spec/ogcapi-maps-1/1.0/conf/geodata\",\n",
      "    \"http://www.opengis.net/spec/ogcapi-maps-1/1.0/conf/dataset\",\n",
      "    \"http://www.opengis.net/spec/ogcapi-maps-1/1.0/conf/bbox\",\n",
      "    \"http://www.opengis.net/spec/ogcapi-tiles-1/1.0/conf/core\",\n",
      "    \"http://www.opengis.net/spec/ogcapi-records-1/1.0/req/core\",\n",
      "    \"http://www.opengis.net/spec/ogcapi-records-1/1.0/req/opensearch\",\n",
      "    \"http://www.opengis.net/spec/ogcapi-records-1/1.0/req/cql\",\n",
      "    \"http://www.opengis.net/spec/ogcapi-records-1/1.0/req/json\",\n",
      "    \"http://www.opengis.net/spec/ogcapi-records-1/1.0/req/xml\",\n",
      "    \"http://www.opengis.net/spec/ogcapi-records-1/1.0/req/html\"\n",
      "]\n"
     ]
    }
   ],
   "source": [
    "conformancePageResponse = requests.get(conformanceLink['href'])\n",
    "conformance = json.loads(conformancePageResponse.text)\n",
    "print(json.dumps(conformance['conformsTo'], indent=4))"
   ]
  },
  {
   "cell_type": "markdown",
   "metadata": {},
   "source": [
    "Only some of that is applicable to Coverages:"
   ]
  },
  {
   "cell_type": "code",
   "execution_count": 6,
   "metadata": {},
   "outputs": [
    {
     "name": "stdout",
     "output_type": "stream",
     "text": [
      "http://www.opengis.net/spec/ogcapi-common/1.0/conf/core\n",
      "http://www.opengis.net/spec/ogcapi-common/1.0/conf/json\n",
      "http://www.opengis.net/spec/ogcapi-common/1.0/conf/html\n",
      "http://www.opengis.net/spec/ogcapi-common/1.0/conf/oas3\n",
      "http://www.opengis.net/spec/ogcapi_coverages-1/1.0/conf/core\n",
      "http://www.opengis.net/spec/ogcapi-coverages-1/1.0/conf/html\n",
      "http://www.opengis.net/spec/ogcapi-coverages-1/1.0/conf/oas30\n"
     ]
    }
   ],
   "source": [
    "\n",
    "for link in conformance['conformsTo']:\n",
    "    if link.startswith('http://www.opengis.net/spec/ogcapi-common/1.0/'):\n",
    "        print(link)\n",
    "    if link.startswith('http://www.opengis.net/spec/ogcapi-coverages-1/1.0/') or link.startswith('http://www.opengis.net/spec/ogcapi_coverages-1/1.0/'):\n",
    "        print(link)\n",
    "\n"
   ]
  },
  {
   "cell_type": "markdown",
   "metadata": {},
   "source": [
    "Its not very consistent in the spec (PDF, Publication Date: 2020-08-03) whether its underscores or dashes. \n"
   ]
  },
  {
   "cell_type": "markdown",
   "metadata": {},
   "source": [
    "Collections\n",
    "-----------\n",
    "\n",
    "Collections is the start of the data. Let's take a look.\n"
   ]
  },
  {
   "cell_type": "code",
   "execution_count": 7,
   "metadata": {},
   "outputs": [
    {
     "name": "stdout",
     "output_type": "stream",
     "text": [
      "{\n",
      "    \"href\": \"https://test.cubewerx.com/cubewerx/cubeserv/demo/ogcapi/Daraa/collections?f=json\",\n",
      "    \"rel\": \"data\",\n",
      "    \"type\": \"application/json\",\n",
      "    \"title\": \"the set of available collections\"\n",
      "}\n"
     ]
    }
   ],
   "source": [
    "collectionsLink = next(link for link in landingPage['links'] if (link['rel'] == 'data' and link['type'] == 'application/json'))\n",
    "print(json.dumps(collectionsLink, indent=4))"
   ]
  },
  {
   "cell_type": "markdown",
   "metadata": {},
   "source": [
    "The `href` is always `/collections`, but its nice to use the link."
   ]
  },
  {
   "cell_type": "code",
   "execution_count": 8,
   "metadata": {},
   "outputs": [],
   "source": [
    "collectionsPageResponse = requests.get(collectionsLink['href'])\n",
    "collections = json.loads(collectionsPageResponse.text)"
   ]
  },
  {
   "cell_type": "markdown",
   "metadata": {},
   "source": [
    "The collections list can contain a lot of different entries, only some of which are at least vaguely like a coverage. There is no required link relation, but `coverage` is suggested / recommended."
   ]
  },
  {
   "cell_type": "code",
   "execution_count": 9,
   "metadata": {},
   "outputs": [
    {
     "name": "stdout",
     "output_type": "stream",
     "text": [
      "{'Daraa_DTED': ['https://test.cubewerx.com/cubewerx/cubeserv/demo/ogcapi/Daraa/collections/Daraa_DTED/coverage?f=geotiff'], 'Daraa_mosaic_2019': ['https://test.cubewerx.com/cubewerx/cubeserv/demo/ogcapi/Daraa/collections/Daraa_mosaic_2019/coverage?f=geotiff']}\n"
     ]
    }
   ],
   "source": [
    "coverageResults = {}\n",
    "for collection in collections['collections']:\n",
    "    linksForCoverage = []\n",
    "    for link in collection['links']:\n",
    "        if (link['rel'] == 'coverage') or (link['type'] == 'image/geo+tiff') or (link['type'] == 'image/tiff; application=geotiff'):\n",
    "            # print(collection['id'] + \": \" + collection['title'])\n",
    "            # print(json.dumps(link, indent=4))\n",
    "            linksForCoverage.append(link['href'])\n",
    "    if len(linksForCoverage) > 0:\n",
    "        coverageResults[collection['id']] = linksForCoverage\n",
    "print(coverageResults)"
   ]
  },
  {
   "cell_type": "code",
   "execution_count": 12,
   "metadata": {},
   "outputs": [
    {
     "name": "stdout",
     "output_type": "stream",
     "text": [
      "Daraa_DTED\n",
      "TIFF (2401, 1201) I\n",
      "[(0, 255)] [110.08577816417736] [113] [47.10232367071073]\n",
      "Daraa_mosaic_2019\n"
     ]
    },
    {
     "ename": "UnidentifiedImageError",
     "evalue": "cannot identify image file <_io.BytesIO object at 0x7fa7e8112bf8>",
     "output_type": "error",
     "traceback": [
      "\u001b[0;31m---------------------------------------------------------------------------\u001b[0m",
      "\u001b[0;31mUnidentifiedImageError\u001b[0m                    Traceback (most recent call last)",
      "\u001b[0;32m<ipython-input-12-543413f68020>\u001b[0m in \u001b[0;36m<module>\u001b[0;34m\u001b[0m\n\u001b[1;32m      8\u001b[0m         \u001b[0mrequestResponse\u001b[0m \u001b[0;34m=\u001b[0m \u001b[0mrequests\u001b[0m\u001b[0;34m.\u001b[0m\u001b[0mget\u001b[0m\u001b[0;34m(\u001b[0m\u001b[0murl\u001b[0m\u001b[0;34m)\u001b[0m\u001b[0;34m\u001b[0m\u001b[0;34m\u001b[0m\u001b[0m\n\u001b[1;32m      9\u001b[0m         \u001b[0mgeotiffData\u001b[0m \u001b[0;34m=\u001b[0m \u001b[0mrequestResponse\u001b[0m\u001b[0;34m.\u001b[0m\u001b[0mcontent\u001b[0m\u001b[0;34m\u001b[0m\u001b[0;34m\u001b[0m\u001b[0m\n\u001b[0;32m---> 10\u001b[0;31m         \u001b[0mim\u001b[0m \u001b[0;34m=\u001b[0m \u001b[0mImage\u001b[0m\u001b[0;34m.\u001b[0m\u001b[0mopen\u001b[0m\u001b[0;34m(\u001b[0m\u001b[0mio\u001b[0m\u001b[0;34m.\u001b[0m\u001b[0mBytesIO\u001b[0m\u001b[0;34m(\u001b[0m\u001b[0mgeotiffData\u001b[0m\u001b[0;34m)\u001b[0m\u001b[0;34m)\u001b[0m\u001b[0;34m\u001b[0m\u001b[0;34m\u001b[0m\u001b[0m\n\u001b[0m\u001b[1;32m     11\u001b[0m         \u001b[0mprint\u001b[0m\u001b[0;34m(\u001b[0m\u001b[0mim\u001b[0m\u001b[0;34m.\u001b[0m\u001b[0mformat\u001b[0m\u001b[0;34m,\u001b[0m \u001b[0mim\u001b[0m\u001b[0;34m.\u001b[0m\u001b[0msize\u001b[0m\u001b[0;34m,\u001b[0m \u001b[0mim\u001b[0m\u001b[0;34m.\u001b[0m\u001b[0mmode\u001b[0m\u001b[0;34m)\u001b[0m\u001b[0;34m\u001b[0m\u001b[0;34m\u001b[0m\u001b[0m\n\u001b[1;32m     12\u001b[0m         \u001b[0mimagestats\u001b[0m \u001b[0;34m=\u001b[0m \u001b[0mImageStat\u001b[0m\u001b[0;34m.\u001b[0m\u001b[0mStat\u001b[0m\u001b[0;34m(\u001b[0m\u001b[0mim\u001b[0m\u001b[0;34m)\u001b[0m\u001b[0;34m\u001b[0m\u001b[0;34m\u001b[0m\u001b[0m\n",
      "\u001b[0;32m/usr/local/lib/python3.6/dist-packages/PIL/Image.py\u001b[0m in \u001b[0;36mopen\u001b[0;34m(fp, mode)\u001b[0m\n\u001b[1;32m   2929\u001b[0m         \u001b[0mwarnings\u001b[0m\u001b[0;34m.\u001b[0m\u001b[0mwarn\u001b[0m\u001b[0;34m(\u001b[0m\u001b[0mmessage\u001b[0m\u001b[0;34m)\u001b[0m\u001b[0;34m\u001b[0m\u001b[0;34m\u001b[0m\u001b[0m\n\u001b[1;32m   2930\u001b[0m     raise UnidentifiedImageError(\n\u001b[0;32m-> 2931\u001b[0;31m         \u001b[0;34m\"cannot identify image file %r\"\u001b[0m \u001b[0;34m%\u001b[0m \u001b[0;34m(\u001b[0m\u001b[0mfilename\u001b[0m \u001b[0;32mif\u001b[0m \u001b[0mfilename\u001b[0m \u001b[0;32melse\u001b[0m \u001b[0mfp\u001b[0m\u001b[0;34m)\u001b[0m\u001b[0;34m\u001b[0m\u001b[0;34m\u001b[0m\u001b[0m\n\u001b[0m\u001b[1;32m   2932\u001b[0m     )\n\u001b[1;32m   2933\u001b[0m \u001b[0;34m\u001b[0m\u001b[0m\n",
      "\u001b[0;31mUnidentifiedImageError\u001b[0m: cannot identify image file <_io.BytesIO object at 0x7fa7e8112bf8>"
     ]
    }
   ],
   "source": [
    "from PIL import Image\n",
    "from PIL import ImageStat\n",
    "import io\n",
    "\n",
    "for coverage in coverageResults.keys():\n",
    "    print(coverage)\n",
    "    for url in coverageResults[coverage]:\n",
    "        requestResponse = requests.get(url)\n",
    "        geotiffData = requestResponse.content\n",
    "        im = Image.open(io.BytesIO(geotiffData))\n",
    "        print(im.format, im.size, im.mode)\n",
    "        imagestats = ImageStat.Stat(im)\n",
    "        print(imagestats.extrema, imagestats.mean, imagestats.median, imagestats.stddev)\n",
    "        im.show()\n"
   ]
  },
  {
   "cell_type": "code",
   "execution_count": null,
   "metadata": {},
   "outputs": [],
   "source": []
  },
  {
   "cell_type": "code",
   "execution_count": null,
   "metadata": {},
   "outputs": [],
   "source": []
  }
 ],
 "metadata": {
  "kernelspec": {
   "display_name": "Python 3",
   "language": "python",
   "name": "python3"
  },
  "language_info": {
   "codemirror_mode": {
    "name": "ipython",
    "version": 3
   },
   "file_extension": ".py",
   "mimetype": "text/x-python",
   "name": "python",
   "nbconvert_exporter": "python",
   "pygments_lexer": "ipython3",
   "version": "3.6.9"
  }
 },
 "nbformat": 4,
 "nbformat_minor": 4
}
